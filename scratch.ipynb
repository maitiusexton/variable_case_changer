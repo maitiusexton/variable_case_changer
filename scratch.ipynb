{
 "cells": [
  {
   "cell_type": "markdown",
   "id": "06fd33f5-e536-4798-bef1-a38e2a86b800",
   "metadata": {},
   "source": [
    "# My scratch work will go in this notebook"
   ]
  },
  {
   "cell_type": "code",
   "execution_count": null,
   "id": "6a5e81e3-74b8-4ee5-9635-0abc0ee4bb66",
   "metadata": {},
   "outputs": [],
   "source": []
  }
 ],
 "metadata": {
  "kernelspec": {
   "display_name": "Python 3 (ipykernel)",
   "language": "python",
   "name": "python3"
  },
  "language_info": {
   "codemirror_mode": {
    "name": "ipython",
    "version": 3
   },
   "file_extension": ".py",
   "mimetype": "text/x-python",
   "name": "python",
   "nbconvert_exporter": "python",
   "pygments_lexer": "ipython3",
   "version": "3.9.7"
  }
 },
 "nbformat": 4,
 "nbformat_minor": 5
}
